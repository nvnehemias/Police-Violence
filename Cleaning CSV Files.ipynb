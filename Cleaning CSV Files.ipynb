{
 "cells": [
  {
   "cell_type": "code",
   "execution_count": 2,
   "metadata": {},
   "outputs": [],
   "source": [
    "import pandas as pd"
   ]
  },
  {
   "cell_type": "markdown",
   "metadata": {},
   "source": [
    "# Clean Death and Stats"
   ]
  },
  {
   "cell_type": "code",
   "execution_count": 90,
   "metadata": {},
   "outputs": [],
   "source": [
    "deathstats = pd.read_csv(\"deaths_and_stats.csv\")"
   ]
  },
  {
   "cell_type": "code",
   "execution_count": 91,
   "metadata": {},
   "outputs": [],
   "source": [
    "columns_list = deathstats.columns.to_list()"
   ]
  },
  {
   "cell_type": "code",
   "execution_count": 92,
   "metadata": {},
   "outputs": [],
   "source": [
    "new_list = []\n",
    "for i in columns_list:\n",
    "    i = str(i).replace(\" Killed by Police (1/1/2013-12/31/2019)\",\"\")\n",
    "    i = str(i).replace(\" (if reported by agency)\",\"\")\n",
    "    new_list.append(i)"
   ]
  },
  {
   "cell_type": "code",
   "execution_count": 93,
   "metadata": {},
   "outputs": [],
   "source": [
    "deathstats.columns = new_list"
   ]
  },
  {
   "cell_type": "code",
   "execution_count": 94,
   "metadata": {},
   "outputs": [],
   "source": [
    "deathstats.fillna(0,inplace=True)"
   ]
  },
  {
   "cell_type": "code",
   "execution_count": 95,
   "metadata": {},
   "outputs": [],
   "source": [
    "new_list = new_list[3:]\n",
    "for i in new_list:\n",
    "    deathstats[i] = deathstats[i].apply(lambda x: str(x).replace(\",\",\"\"))"
   ]
  },
  {
   "cell_type": "code",
   "execution_count": 96,
   "metadata": {},
   "outputs": [],
   "source": [
    "for i in new_list:\n",
    "    deathstats[i] = deathstats[i].apply(lambda x: int(round(float(x))))"
   ]
  },
  {
   "cell_type": "code",
   "execution_count": 98,
   "metadata": {
    "scrolled": true
   },
   "outputs": [],
   "source": [
    "deathstats.to_csv(\"Clean Death And Stats.csv\")"
   ]
  },
  {
   "cell_type": "code",
   "execution_count": 103,
   "metadata": {},
   "outputs": [
    {
     "data": {
      "text/html": [
       "<div>\n",
       "<style scoped>\n",
       "    .dataframe tbody tr th:only-of-type {\n",
       "        vertical-align: middle;\n",
       "    }\n",
       "\n",
       "    .dataframe tbody tr th {\n",
       "        vertical-align: top;\n",
       "    }\n",
       "\n",
       "    .dataframe thead th {\n",
       "        text-align: right;\n",
       "    }\n",
       "</style>\n",
       "<table border=\"1\" class=\"dataframe\">\n",
       "  <thead>\n",
       "    <tr style=\"text-align: right;\">\n",
       "      <th></th>\n",
       "      <th>State</th>\n",
       "      <th>City</th>\n",
       "      <th>PD</th>\n",
       "      <th>Black People</th>\n",
       "      <th>Hispanic People</th>\n",
       "      <th>Native American People</th>\n",
       "      <th>Asian People</th>\n",
       "      <th>Pacific Islanders</th>\n",
       "      <th>White People</th>\n",
       "      <th>Unknown Race People</th>\n",
       "      <th>...</th>\n",
       "      <th>Violent crimes 2015</th>\n",
       "      <th>Violent crimes 2016</th>\n",
       "      <th>Violent crimes 2017</th>\n",
       "      <th>Violent crimes 2018</th>\n",
       "      <th>2013 Total Arrests (UCR Data)</th>\n",
       "      <th>2014 Total Arrests</th>\n",
       "      <th>2015 Total Arrests</th>\n",
       "      <th>2016 Total Arrests</th>\n",
       "      <th>2017 Total Arrests</th>\n",
       "      <th>2018 Total Arrests</th>\n",
       "    </tr>\n",
       "  </thead>\n",
       "  <tbody>\n",
       "    <tr>\n",
       "      <th>0</th>\n",
       "      <td>New Mexico</td>\n",
       "      <td>Albuquerque</td>\n",
       "      <td>Albuquerque Police Department</td>\n",
       "      <td>3</td>\n",
       "      <td>18</td>\n",
       "      <td>0</td>\n",
       "      <td>0</td>\n",
       "      <td>0</td>\n",
       "      <td>10</td>\n",
       "      <td>1</td>\n",
       "      <td>...</td>\n",
       "      <td>5406</td>\n",
       "      <td>6245</td>\n",
       "      <td>7686</td>\n",
       "      <td>7646</td>\n",
       "      <td>27700</td>\n",
       "      <td>25447</td>\n",
       "      <td>22126</td>\n",
       "      <td>20341</td>\n",
       "      <td>21130</td>\n",
       "      <td>22254</td>\n",
       "    </tr>\n",
       "    <tr>\n",
       "      <th>1</th>\n",
       "      <td>California</td>\n",
       "      <td>Anaheim</td>\n",
       "      <td>Anaheim Police Department</td>\n",
       "      <td>3</td>\n",
       "      <td>7</td>\n",
       "      <td>0</td>\n",
       "      <td>0</td>\n",
       "      <td>0</td>\n",
       "      <td>3</td>\n",
       "      <td>0</td>\n",
       "      <td>...</td>\n",
       "      <td>1271</td>\n",
       "      <td>1209</td>\n",
       "      <td>1253</td>\n",
       "      <td>1192</td>\n",
       "      <td>7891</td>\n",
       "      <td>8137</td>\n",
       "      <td>8381</td>\n",
       "      <td>9415</td>\n",
       "      <td>8869</td>\n",
       "      <td>10019</td>\n",
       "    </tr>\n",
       "    <tr>\n",
       "      <th>2</th>\n",
       "      <td>Alaska</td>\n",
       "      <td>Anchorage</td>\n",
       "      <td>Anchorage Police Department</td>\n",
       "      <td>1</td>\n",
       "      <td>1</td>\n",
       "      <td>2</td>\n",
       "      <td>0</td>\n",
       "      <td>0</td>\n",
       "      <td>5</td>\n",
       "      <td>4</td>\n",
       "      <td>...</td>\n",
       "      <td>3226</td>\n",
       "      <td>3422</td>\n",
       "      <td>3564</td>\n",
       "      <td>3824</td>\n",
       "      <td>17601</td>\n",
       "      <td>14748</td>\n",
       "      <td>14387</td>\n",
       "      <td>13294</td>\n",
       "      <td>13871</td>\n",
       "      <td>13973</td>\n",
       "    </tr>\n",
       "    <tr>\n",
       "      <th>3</th>\n",
       "      <td>Texas</td>\n",
       "      <td>Arlington</td>\n",
       "      <td>Arlington Police Department</td>\n",
       "      <td>7</td>\n",
       "      <td>1</td>\n",
       "      <td>0</td>\n",
       "      <td>1</td>\n",
       "      <td>0</td>\n",
       "      <td>4</td>\n",
       "      <td>1</td>\n",
       "      <td>...</td>\n",
       "      <td>1946</td>\n",
       "      <td>2188</td>\n",
       "      <td>0</td>\n",
       "      <td>1784</td>\n",
       "      <td>17258</td>\n",
       "      <td>16222</td>\n",
       "      <td>13989</td>\n",
       "      <td>11024</td>\n",
       "      <td>8397</td>\n",
       "      <td>9566</td>\n",
       "    </tr>\n",
       "    <tr>\n",
       "      <th>4</th>\n",
       "      <td>Georgia</td>\n",
       "      <td>Atlanta</td>\n",
       "      <td>Atlanta Police Department</td>\n",
       "      <td>13</td>\n",
       "      <td>0</td>\n",
       "      <td>0</td>\n",
       "      <td>0</td>\n",
       "      <td>0</td>\n",
       "      <td>1</td>\n",
       "      <td>1</td>\n",
       "      <td>...</td>\n",
       "      <td>5203</td>\n",
       "      <td>5121</td>\n",
       "      <td>4504</td>\n",
       "      <td>3814</td>\n",
       "      <td>30505</td>\n",
       "      <td>26958</td>\n",
       "      <td>0</td>\n",
       "      <td>22161</td>\n",
       "      <td>22581</td>\n",
       "      <td>0</td>\n",
       "    </tr>\n",
       "  </tbody>\n",
       "</table>\n",
       "<p>5 rows × 33 columns</p>\n",
       "</div>"
      ],
      "text/plain": [
       "        State         City                             PD  Black People  \\\n",
       "0  New Mexico  Albuquerque  Albuquerque Police Department             3   \n",
       "1  California      Anaheim      Anaheim Police Department             3   \n",
       "2      Alaska    Anchorage    Anchorage Police Department             1   \n",
       "3       Texas    Arlington    Arlington Police Department             7   \n",
       "4     Georgia      Atlanta      Atlanta Police Department            13   \n",
       "\n",
       "   Hispanic People  Native American People  Asian People  Pacific Islanders  \\\n",
       "0               18                       0             0                  0   \n",
       "1                7                       0             0                  0   \n",
       "2                1                       2             0                  0   \n",
       "3                1                       0             1                  0   \n",
       "4                0                       0             0                  0   \n",
       "\n",
       "   White People  Unknown Race People  ...  Violent crimes 2015  \\\n",
       "0            10                    1  ...                 5406   \n",
       "1             3                    0  ...                 1271   \n",
       "2             5                    4  ...                 3226   \n",
       "3             4                    1  ...                 1946   \n",
       "4             1                    1  ...                 5203   \n",
       "\n",
       "   Violent crimes 2016  Violent crimes 2017  Violent crimes 2018  \\\n",
       "0                 6245                 7686                 7646   \n",
       "1                 1209                 1253                 1192   \n",
       "2                 3422                 3564                 3824   \n",
       "3                 2188                    0                 1784   \n",
       "4                 5121                 4504                 3814   \n",
       "\n",
       "   2013 Total Arrests (UCR Data)  2014 Total Arrests  2015 Total Arrests  \\\n",
       "0                          27700               25447               22126   \n",
       "1                           7891                8137                8381   \n",
       "2                          17601               14748               14387   \n",
       "3                          17258               16222               13989   \n",
       "4                          30505               26958                   0   \n",
       "\n",
       "   2016 Total Arrests  2017 Total Arrests  2018 Total Arrests  \n",
       "0               20341               21130               22254  \n",
       "1                9415                8869               10019  \n",
       "2               13294               13871               13973  \n",
       "3               11024                8397                9566  \n",
       "4               22161               22581                   0  \n",
       "\n",
       "[5 rows x 33 columns]"
      ]
     },
     "execution_count": 103,
     "metadata": {},
     "output_type": "execute_result"
    }
   ],
   "source": [
    "deathstats.head()"
   ]
  },
  {
   "cell_type": "markdown",
   "metadata": {},
   "source": [
    "# Clean Fatal Encounters"
   ]
  },
  {
   "cell_type": "code",
   "execution_count": 3,
   "metadata": {},
   "outputs": [],
   "source": [
    "file = pd.read_csv(\"fatal_encounters_dot_org.csv\")"
   ]
  },
  {
   "cell_type": "code",
   "execution_count": 14,
   "metadata": {},
   "outputs": [],
   "source": [
    "file.fillna(0,inplace=True)"
   ]
  },
  {
   "cell_type": "code",
   "execution_count": 11,
   "metadata": {
    "scrolled": false
   },
   "outputs": [],
   "source": [
    "file.columns = [\"Unique ID\",\"Name\",\"Age\",\"Gender\",\"Race\",\"Race with Imputations\",\"Imputation Probability\",\"URL of Image of Deceased\",\\\n",
    "\"Date of Injury Resulting in Death\",\"Address of Injury\",\"City of Death\",\"State of Death\",\"Zip Code of Death\",\\\n",
    "\"County of Death\",\"Full Address\",\"Lat\",\"Long\",\"Agency Responsible of Death\",\"Cause of Death\",\\\n",
    " \"Description of Circumstance of Death\",\"Dispositions/Exclusions (Internal Use Only)\",\\\n",
    "\"Link to news article or photo of official document\",\"Symptoms of Mental Illness\",\"Video\",\"Date and Description\",\\\n",
    "\"Unique ID Formula\",\"Unique Identifier\",\"Year\"]"
   ]
  },
  {
   "cell_type": "code",
   "execution_count": 27,
   "metadata": {},
   "outputs": [],
   "source": [
    "file.drop(columns = [\"Race with Imputations\",\"Imputation Probability\",\"URL of Image of Deceased\",\\\n",
    "                    \"Link to news article or photo of official document\",\"Video\",\"Date and Description\",\\\n",
    "                     \"Unique ID Formula\",\"Unique Identifier\"],inplace=True)"
   ]
  },
  {
   "cell_type": "code",
   "execution_count": 31,
   "metadata": {},
   "outputs": [],
   "source": [
    "file[\"Zip Code of Death\"] = file[\"Zip Code of Death\"].apply(lambda x: int(x))"
   ]
  },
  {
   "cell_type": "code",
   "execution_count": 34,
   "metadata": {},
   "outputs": [],
   "source": [
    "file.to_csv(\"Fatal_Encounters.csv\")"
   ]
  },
  {
   "cell_type": "code",
   "execution_count": null,
   "metadata": {},
   "outputs": [],
   "source": []
  }
 ],
 "metadata": {
  "kernelspec": {
   "display_name": "Python 3",
   "language": "python",
   "name": "python3"
  },
  "language_info": {
   "codemirror_mode": {
    "name": "ipython",
    "version": 3
   },
   "file_extension": ".py",
   "mimetype": "text/x-python",
   "name": "python",
   "nbconvert_exporter": "python",
   "pygments_lexer": "ipython3",
   "version": "3.8.2"
  }
 },
 "nbformat": 4,
 "nbformat_minor": 4
}
