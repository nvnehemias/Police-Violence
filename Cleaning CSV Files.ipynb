{
 "cells": [
  {
   "cell_type": "code",
   "execution_count": 2,
   "metadata": {},
   "outputs": [],
   "source": [
    "import pandas as pd"
   ]
  },
  {
   "cell_type": "markdown",
   "metadata": {},
   "source": [
    "# Clean Death and Stats"
   ]
  },
  {
   "cell_type": "code",
   "execution_count": 90,
   "metadata": {},
   "outputs": [],
   "source": [
    "deathstats = pd.read_csv(\"deaths_and_stats.csv\")"
   ]
  },
  {
   "cell_type": "code",
   "execution_count": 91,
   "metadata": {},
   "outputs": [],
   "source": [
    "columns_list = deathstats.columns.to_list()"
   ]
  },
  {
   "cell_type": "code",
   "execution_count": 92,
   "metadata": {},
   "outputs": [],
   "source": [
    "new_list = []\n",
    "for i in columns_list:\n",
    "    i = str(i).replace(\" Killed by Police (1/1/2013-12/31/2019)\",\"\")\n",
    "    i = str(i).replace(\" (if reported by agency)\",\"\")\n",
    "    new_list.append(i)"
   ]
  },
  {
   "cell_type": "code",
   "execution_count": 93,
   "metadata": {},
   "outputs": [],
   "source": [
    "deathstats.columns = new_list"
   ]
  },
  {
   "cell_type": "code",
   "execution_count": 94,
   "metadata": {},
   "outputs": [],
   "source": [
    "deathstats.fillna(0,inplace=True)"
   ]
  },
  {
   "cell_type": "code",
   "execution_count": 95,
   "metadata": {},
   "outputs": [],
   "source": [
    "new_list = new_list[3:]\n",
    "for i in new_list:\n",
    "    deathstats[i] = deathstats[i].apply(lambda x: str(x).replace(\",\",\"\"))"
   ]
  },
  {
   "cell_type": "code",
   "execution_count": 96,
   "metadata": {},
   "outputs": [],
   "source": [
    "for i in new_list:\n",
    "    deathstats[i] = deathstats[i].apply(lambda x: int(round(float(x))))"
   ]
  },
  {
   "cell_type": "code",
   "execution_count": 98,
   "metadata": {
    "scrolled": true
   },
   "outputs": [],
   "source": [
    "deathstats.to_csv(\"Clean Death And Stats.csv\")"
   ]
  },
  {
   "cell_type": "code",
   "execution_count": 103,
   "metadata": {},
   "outputs": [
    {
     "data": {
      "text/html": [
       "<div>\n",
       "<style scoped>\n",
       "    .dataframe tbody tr th:only-of-type {\n",
       "        vertical-align: middle;\n",
       "    }\n",
       "\n",
       "    .dataframe tbody tr th {\n",
       "        vertical-align: top;\n",
       "    }\n",
       "\n",
       "    .dataframe thead th {\n",
       "        text-align: right;\n",
       "    }\n",
       "</style>\n",
       "<table border=\"1\" class=\"dataframe\">\n",
       "  <thead>\n",
       "    <tr style=\"text-align: right;\">\n",
       "      <th></th>\n",
       "      <th>State</th>\n",
       "      <th>City</th>\n",
       "      <th>PD</th>\n",
       "      <th>Black People</th>\n",
       "      <th>Hispanic People</th>\n",
       "      <th>Native American People</th>\n",
       "      <th>Asian People</th>\n",
       "      <th>Pacific Islanders</th>\n",
       "      <th>White People</th>\n",
       "      <th>Unknown Race People</th>\n",
       "      <th>...</th>\n",
       "      <th>Violent crimes 2015</th>\n",
       "      <th>Violent crimes 2016</th>\n",
       "      <th>Violent crimes 2017</th>\n",
       "      <th>Violent crimes 2018</th>\n",
       "      <th>2013 Total Arrests (UCR Data)</th>\n",
       "      <th>2014 Total Arrests</th>\n",
       "      <th>2015 Total Arrests</th>\n",
       "      <th>2016 Total Arrests</th>\n",
       "      <th>2017 Total Arrests</th>\n",
       "      <th>2018 Total Arrests</th>\n",
       "    </tr>\n",
       "  </thead>\n",
       "  <tbody>\n",
       "    <tr>\n",
       "      <th>0</th>\n",
       "      <td>New Mexico</td>\n",
       "      <td>Albuquerque</td>\n",
       "      <td>Albuquerque Police Department</td>\n",
       "      <td>3</td>\n",
       "      <td>18</td>\n",
       "      <td>0</td>\n",
       "      <td>0</td>\n",
       "      <td>0</td>\n",
       "      <td>10</td>\n",
       "      <td>1</td>\n",
       "      <td>...</td>\n",
       "      <td>5406</td>\n",
       "      <td>6245</td>\n",
       "      <td>7686</td>\n",
       "      <td>7646</td>\n",
       "      <td>27700</td>\n",
       "      <td>25447</td>\n",
       "      <td>22126</td>\n",
       "      <td>20341</td>\n",
       "      <td>21130</td>\n",
       "      <td>22254</td>\n",
       "    </tr>\n",
       "    <tr>\n",
       "      <th>1</th>\n",
       "      <td>California</td>\n",
       "      <td>Anaheim</td>\n",
       "      <td>Anaheim Police Department</td>\n",
       "      <td>3</td>\n",
       "      <td>7</td>\n",
       "      <td>0</td>\n",
       "      <td>0</td>\n",
       "      <td>0</td>\n",
       "      <td>3</td>\n",
       "      <td>0</td>\n",
       "      <td>...</td>\n",
       "      <td>1271</td>\n",
       "      <td>1209</td>\n",
       "      <td>1253</td>\n",
       "      <td>1192</td>\n",
       "      <td>7891</td>\n",
       "      <td>8137</td>\n",
       "      <td>8381</td>\n",
       "      <td>9415</td>\n",
       "      <td>8869</td>\n",
       "      <td>10019</td>\n",
       "    </tr>\n",
       "    <tr>\n",
       "      <th>2</th>\n",
       "      <td>Alaska</td>\n",
       "      <td>Anchorage</td>\n",
       "      <td>Anchorage Police Department</td>\n",
       "      <td>1</td>\n",
       "      <td>1</td>\n",
       "      <td>2</td>\n",
       "      <td>0</td>\n",
       "      <td>0</td>\n",
       "      <td>5</td>\n",
       "      <td>4</td>\n",
       "      <td>...</td>\n",
       "      <td>3226</td>\n",
       "      <td>3422</td>\n",
       "      <td>3564</td>\n",
       "      <td>3824</td>\n",
       "      <td>17601</td>\n",
       "      <td>14748</td>\n",
       "      <td>14387</td>\n",
       "      <td>13294</td>\n",
       "      <td>13871</td>\n",
       "      <td>13973</td>\n",
       "    </tr>\n",
       "    <tr>\n",
       "      <th>3</th>\n",
       "      <td>Texas</td>\n",
       "      <td>Arlington</td>\n",
       "      <td>Arlington Police Department</td>\n",
       "      <td>7</td>\n",
       "      <td>1</td>\n",
       "      <td>0</td>\n",
       "      <td>1</td>\n",
       "      <td>0</td>\n",
       "      <td>4</td>\n",
       "      <td>1</td>\n",
       "      <td>...</td>\n",
       "      <td>1946</td>\n",
       "      <td>2188</td>\n",
       "      <td>0</td>\n",
       "      <td>1784</td>\n",
       "      <td>17258</td>\n",
       "      <td>16222</td>\n",
       "      <td>13989</td>\n",
       "      <td>11024</td>\n",
       "      <td>8397</td>\n",
       "      <td>9566</td>\n",
       "    </tr>\n",
       "    <tr>\n",
       "      <th>4</th>\n",
       "      <td>Georgia</td>\n",
       "      <td>Atlanta</td>\n",
       "      <td>Atlanta Police Department</td>\n",
       "      <td>13</td>\n",
       "      <td>0</td>\n",
       "      <td>0</td>\n",
       "      <td>0</td>\n",
       "      <td>0</td>\n",
       "      <td>1</td>\n",
       "      <td>1</td>\n",
       "      <td>...</td>\n",
       "      <td>5203</td>\n",
       "      <td>5121</td>\n",
       "      <td>4504</td>\n",
       "      <td>3814</td>\n",
       "      <td>30505</td>\n",
       "      <td>26958</td>\n",
       "      <td>0</td>\n",
       "      <td>22161</td>\n",
       "      <td>22581</td>\n",
       "      <td>0</td>\n",
       "    </tr>\n",
       "  </tbody>\n",
       "</table>\n",
       "<p>5 rows × 33 columns</p>\n",
       "</div>"
      ],
      "text/plain": [
       "        State         City                             PD  Black People  \\\n",
       "0  New Mexico  Albuquerque  Albuquerque Police Department             3   \n",
       "1  California      Anaheim      Anaheim Police Department             3   \n",
       "2      Alaska    Anchorage    Anchorage Police Department             1   \n",
       "3       Texas    Arlington    Arlington Police Department             7   \n",
       "4     Georgia      Atlanta      Atlanta Police Department            13   \n",
       "\n",
       "   Hispanic People  Native American People  Asian People  Pacific Islanders  \\\n",
       "0               18                       0             0                  0   \n",
       "1                7                       0             0                  0   \n",
       "2                1                       2             0                  0   \n",
       "3                1                       0             1                  0   \n",
       "4                0                       0             0                  0   \n",
       "\n",
       "   White People  Unknown Race People  ...  Violent crimes 2015  \\\n",
       "0            10                    1  ...                 5406   \n",
       "1             3                    0  ...                 1271   \n",
       "2             5                    4  ...                 3226   \n",
       "3             4                    1  ...                 1946   \n",
       "4             1                    1  ...                 5203   \n",
       "\n",
       "   Violent crimes 2016  Violent crimes 2017  Violent crimes 2018  \\\n",
       "0                 6245                 7686                 7646   \n",
       "1                 1209                 1253                 1192   \n",
       "2                 3422                 3564                 3824   \n",
       "3                 2188                    0                 1784   \n",
       "4                 5121                 4504                 3814   \n",
       "\n",
       "   2013 Total Arrests (UCR Data)  2014 Total Arrests  2015 Total Arrests  \\\n",
       "0                          27700               25447               22126   \n",
       "1                           7891                8137                8381   \n",
       "2                          17601               14748               14387   \n",
       "3                          17258               16222               13989   \n",
       "4                          30505               26958                   0   \n",
       "\n",
       "   2016 Total Arrests  2017 Total Arrests  2018 Total Arrests  \n",
       "0               20341               21130               22254  \n",
       "1                9415                8869               10019  \n",
       "2               13294               13871               13973  \n",
       "3               11024                8397                9566  \n",
       "4               22161               22581                   0  \n",
       "\n",
       "[5 rows x 33 columns]"
      ]
     },
     "execution_count": 103,
     "metadata": {},
     "output_type": "execute_result"
    }
   ],
   "source": [
    "deathstats.head()"
   ]
  },
  {
   "cell_type": "markdown",
   "metadata": {},
   "source": [
    "# Clean Fatal Encounters"
   ]
  },
  {
   "cell_type": "code",
   "execution_count": 3,
   "metadata": {},
   "outputs": [],
   "source": [
    "file = pd.read_csv(\"fatal_encounters_dot_org.csv\")"
   ]
  },
  {
   "cell_type": "code",
   "execution_count": 14,
   "metadata": {},
   "outputs": [],
   "source": [
    "file.fillna(0,inplace=True)"
   ]
  },
  {
   "cell_type": "code",
   "execution_count": 11,
   "metadata": {
    "scrolled": false
   },
   "outputs": [],
   "source": [
    "file.columns = [\"Unique ID\",\"Name\",\"Age\",\"Gender\",\"Race\",\"Race with Imputations\",\"Imputation Probability\",\"URL of Image of Deceased\",\\\n",
    "\"Date of Injury Resulting in Death\",\"Address of Injury\",\"City of Death\",\"State of Death\",\"Zip Code of Death\",\\\n",
    "\"County of Death\",\"Full Address\",\"Lat\",\"Long\",\"Agency Responsible of Death\",\"Cause of Death\",\\\n",
    " \"Description of Circumstance of Death\",\"Dispositions/Exclusions (Internal Use Only)\",\\\n",
    "\"Link to news article or photo of official document\",\"Symptoms of Mental Illness\",\"Video\",\"Date and Description\",\\\n",
    "\"Unique ID Formula\",\"Unique Identifier\",\"Year\"]"
   ]
  },
  {
   "cell_type": "code",
   "execution_count": 27,
   "metadata": {},
   "outputs": [],
   "source": [
    "file.drop(columns = [\"Race with Imputations\",\"Imputation Probability\",\"URL of Image of Deceased\",\\\n",
    "                    \"Link to news article or photo of official document\",\"Video\",\"Date and Description\",\\\n",
    "                     \"Unique ID Formula\",\"Unique Identifier\"],inplace=True)"
   ]
  },
  {
   "cell_type": "code",
   "execution_count": 31,
   "metadata": {},
   "outputs": [],
   "source": [
    "file[\"Zip Code of Death\"] = file[\"Zip Code of Death\"].apply(lambda x: int(x))"
   ]
  },
  {
   "cell_type": "code",
   "execution_count": 34,
   "metadata": {},
   "outputs": [],
   "source": [
    "file.to_csv(\"Fatal_Encounters.csv\")"
   ]
  },
  {
   "cell_type": "markdown",
   "metadata": {},
   "source": [
    "# Cleaning Police Contracts"
   ]
  },
  {
   "cell_type": "code",
   "execution_count": 49,
   "metadata": {},
   "outputs": [],
   "source": [
    "file = pd.read_csv(\"police_contracts.csv\")"
   ]
  },
  {
   "cell_type": "code",
   "execution_count": 50,
   "metadata": {},
   "outputs": [],
   "source": [
    "file.drop(columns = \"Unique identifier\",inplace=True)"
   ]
  },
  {
   "cell_type": "code",
   "execution_count": 52,
   "metadata": {},
   "outputs": [],
   "source": [
    "file.to_csv(\"Police Contracts.csv\")"
   ]
  },
  {
   "cell_type": "code",
   "execution_count": 53,
   "metadata": {},
   "outputs": [
    {
     "name": "stdout",
     "output_type": "stream",
     "text": [
      "\u001b[34mClean CSV Files\u001b[m\u001b[m/              police_deaths_538.csv\r\n",
      "Cleaning CSV Files.ipynb      police_killings.csv\r\n",
      "deaths_and_stats.csv          police_policies.csv\r\n",
      "education_census_bureau.csv   poverty_census_bureau.csv\r\n",
      "fatal_encounters_dot_org.csv  shootings_wash_post.csv\r\n",
      "police_contracts.csv\r\n"
     ]
    }
   ],
   "source": [
    "ls"
   ]
  },
  {
   "cell_type": "markdown",
   "metadata": {},
   "source": [
    "# Cleaning Police Deaths"
   ]
  },
  {
   "cell_type": "code",
   "execution_count": 54,
   "metadata": {},
   "outputs": [],
   "source": [
    "file = pd.read_csv(\"police_deaths_538.csv\")"
   ]
  },
  {
   "cell_type": "code",
   "execution_count": 56,
   "metadata": {},
   "outputs": [],
   "source": [
    "file.columns = [\"Name\",\"Department\",\"EOW\",\"Cause of Death\",\"Short Cause of Death\",\\\n",
    "               \"Date\",\"Year\",\"Canine\",\"Department Name\",\"State\"]"
   ]
  },
  {
   "cell_type": "code",
   "execution_count": 58,
   "metadata": {},
   "outputs": [],
   "source": [
    "file[\"EOW\"] = file[\"EOW\"].apply(lambda x: str(x).replace(\"EOW: \",\"\"))"
   ]
  },
  {
   "cell_type": "code",
   "execution_count": 60,
   "metadata": {},
   "outputs": [],
   "source": [
    "file[\"Cause of Death\"] = file[\"Cause of Death\"].apply(lambda x: str(x).replace(\"Cause of Death: \",\"\"))"
   ]
  },
  {
   "cell_type": "code",
   "execution_count": 64,
   "metadata": {},
   "outputs": [],
   "source": [
    "true_test = (file[\"Cause of Death\"] == file[\"Short Cause of Death\"]).to_list()"
   ]
  },
  {
   "cell_type": "code",
   "execution_count": 66,
   "metadata": {},
   "outputs": [],
   "source": [
    "file.drop(columns = \"Short Cause of Death\",inplace=True)"
   ]
  },
  {
   "cell_type": "code",
   "execution_count": null,
   "metadata": {},
   "outputs": [],
   "source": [
    "file[\"Canine\"].value_"
   ]
  },
  {
   "cell_type": "code",
   "execution_count": 67,
   "metadata": {
    "scrolled": false
   },
   "outputs": [
    {
     "data": {
      "text/html": [
       "<div>\n",
       "<style scoped>\n",
       "    .dataframe tbody tr th:only-of-type {\n",
       "        vertical-align: middle;\n",
       "    }\n",
       "\n",
       "    .dataframe tbody tr th {\n",
       "        vertical-align: top;\n",
       "    }\n",
       "\n",
       "    .dataframe thead th {\n",
       "        text-align: right;\n",
       "    }\n",
       "</style>\n",
       "<table border=\"1\" class=\"dataframe\">\n",
       "  <thead>\n",
       "    <tr style=\"text-align: right;\">\n",
       "      <th></th>\n",
       "      <th>Name</th>\n",
       "      <th>Department</th>\n",
       "      <th>EOW</th>\n",
       "      <th>Cause of Death</th>\n",
       "      <th>Date</th>\n",
       "      <th>Year</th>\n",
       "      <th>Canine</th>\n",
       "      <th>Department Name</th>\n",
       "      <th>State</th>\n",
       "    </tr>\n",
       "  </thead>\n",
       "  <tbody>\n",
       "    <tr>\n",
       "      <th>0</th>\n",
       "      <td>Constable Darius Quimby</td>\n",
       "      <td>Albany County Constable's Office, NY</td>\n",
       "      <td>Monday, January 3, 1791</td>\n",
       "      <td>Gunfire</td>\n",
       "      <td>1791-01-03</td>\n",
       "      <td>1791</td>\n",
       "      <td>False</td>\n",
       "      <td>Albany County Constable's Office</td>\n",
       "      <td>NY</td>\n",
       "    </tr>\n",
       "    <tr>\n",
       "      <th>1</th>\n",
       "      <td>Sheriff Cornelius Hogeboom</td>\n",
       "      <td>Columbia County Sheriff's Office, NY</td>\n",
       "      <td>Saturday, October 22, 1791</td>\n",
       "      <td>Gunfire</td>\n",
       "      <td>1791-10-22</td>\n",
       "      <td>1791</td>\n",
       "      <td>False</td>\n",
       "      <td>Columbia County Sheriff's Office</td>\n",
       "      <td>NY</td>\n",
       "    </tr>\n",
       "    <tr>\n",
       "      <th>2</th>\n",
       "      <td>Deputy Sheriff Isaac Smith</td>\n",
       "      <td>Westchester County Sheriff's Department, NY</td>\n",
       "      <td>Thursday, May 17, 1792</td>\n",
       "      <td>Gunfire</td>\n",
       "      <td>1792-05-17</td>\n",
       "      <td>1792</td>\n",
       "      <td>False</td>\n",
       "      <td>Westchester County Sheriff's Department</td>\n",
       "      <td>NY</td>\n",
       "    </tr>\n",
       "    <tr>\n",
       "      <th>3</th>\n",
       "      <td>Marshal Robert Forsyth</td>\n",
       "      <td>United States Department of Justice - United S...</td>\n",
       "      <td>Saturday, January 11, 1794</td>\n",
       "      <td>Gunfire</td>\n",
       "      <td>1794-01-11</td>\n",
       "      <td>1794</td>\n",
       "      <td>False</td>\n",
       "      <td>United States Department of Justice - United S...</td>\n",
       "      <td>US</td>\n",
       "    </tr>\n",
       "    <tr>\n",
       "      <th>4</th>\n",
       "      <td>Sheriff Robert Maxwell</td>\n",
       "      <td>Greenville County Sheriff's Office, SC</td>\n",
       "      <td>Sunday, November 12, 1797</td>\n",
       "      <td>Gunfire</td>\n",
       "      <td>1797-11-12</td>\n",
       "      <td>1797</td>\n",
       "      <td>False</td>\n",
       "      <td>Greenville County Sheriff's Office</td>\n",
       "      <td>SC</td>\n",
       "    </tr>\n",
       "    <tr>\n",
       "      <th>...</th>\n",
       "      <td>...</td>\n",
       "      <td>...</td>\n",
       "      <td>...</td>\n",
       "      <td>...</td>\n",
       "      <td>...</td>\n",
       "      <td>...</td>\n",
       "      <td>...</td>\n",
       "      <td>...</td>\n",
       "      <td>...</td>\n",
       "    </tr>\n",
       "    <tr>\n",
       "      <th>22795</th>\n",
       "      <td>K9 Bruno</td>\n",
       "      <td>Amarillo Police Department, TX</td>\n",
       "      <td>Sunday, June 12, 2016</td>\n",
       "      <td>Accidental</td>\n",
       "      <td>2016-06-12</td>\n",
       "      <td>2016</td>\n",
       "      <td>True</td>\n",
       "      <td>Amarillo Police Department</td>\n",
       "      <td>TX</td>\n",
       "    </tr>\n",
       "    <tr>\n",
       "      <th>22796</th>\n",
       "      <td>K9 Lazer</td>\n",
       "      <td>United States Department of Homeland Security ...</td>\n",
       "      <td>Monday, June 20, 2016</td>\n",
       "      <td>Heat exhaustion</td>\n",
       "      <td>2016-06-20</td>\n",
       "      <td>2016</td>\n",
       "      <td>True</td>\n",
       "      <td>United States Department of Homeland Security ...</td>\n",
       "      <td>US</td>\n",
       "    </tr>\n",
       "    <tr>\n",
       "      <th>22797</th>\n",
       "      <td>K9 Tyson</td>\n",
       "      <td>Fountain County Sheriff's Office, IN</td>\n",
       "      <td>Monday, June 27, 2016</td>\n",
       "      <td>Heat exhaustion</td>\n",
       "      <td>2016-06-27</td>\n",
       "      <td>2016</td>\n",
       "      <td>True</td>\n",
       "      <td>Fountain County Sheriff's Office</td>\n",
       "      <td>IN</td>\n",
       "    </tr>\n",
       "    <tr>\n",
       "      <th>22798</th>\n",
       "      <td>K9 Credo</td>\n",
       "      <td>Long Beach Police Department, CA</td>\n",
       "      <td>Tuesday, June 28, 2016</td>\n",
       "      <td>Gunfire (Accidental)</td>\n",
       "      <td>2016-06-28</td>\n",
       "      <td>2016</td>\n",
       "      <td>True</td>\n",
       "      <td>Long Beach Police Department</td>\n",
       "      <td>CA</td>\n",
       "    </tr>\n",
       "    <tr>\n",
       "      <th>22799</th>\n",
       "      <td>K9 Roscoe</td>\n",
       "      <td>Emmett Police Department, ID</td>\n",
       "      <td>Friday, July 1, 2016</td>\n",
       "      <td>Automobile accident</td>\n",
       "      <td>2016-07-01</td>\n",
       "      <td>2016</td>\n",
       "      <td>True</td>\n",
       "      <td>Emmett Police Department</td>\n",
       "      <td>ID</td>\n",
       "    </tr>\n",
       "  </tbody>\n",
       "</table>\n",
       "<p>22800 rows × 9 columns</p>\n",
       "</div>"
      ],
      "text/plain": [
       "                             Name  \\\n",
       "0         Constable Darius Quimby   \n",
       "1      Sheriff Cornelius Hogeboom   \n",
       "2      Deputy Sheriff Isaac Smith   \n",
       "3          Marshal Robert Forsyth   \n",
       "4          Sheriff Robert Maxwell   \n",
       "...                           ...   \n",
       "22795                    K9 Bruno   \n",
       "22796                    K9 Lazer   \n",
       "22797                    K9 Tyson   \n",
       "22798                    K9 Credo   \n",
       "22799                   K9 Roscoe   \n",
       "\n",
       "                                              Department  \\\n",
       "0                   Albany County Constable's Office, NY   \n",
       "1                   Columbia County Sheriff's Office, NY   \n",
       "2            Westchester County Sheriff's Department, NY   \n",
       "3      United States Department of Justice - United S...   \n",
       "4                 Greenville County Sheriff's Office, SC   \n",
       "...                                                  ...   \n",
       "22795                     Amarillo Police Department, TX   \n",
       "22796  United States Department of Homeland Security ...   \n",
       "22797               Fountain County Sheriff's Office, IN   \n",
       "22798                   Long Beach Police Department, CA   \n",
       "22799                       Emmett Police Department, ID   \n",
       "\n",
       "                              EOW        Cause of Death        Date  Year  \\\n",
       "0         Monday, January 3, 1791               Gunfire  1791-01-03  1791   \n",
       "1      Saturday, October 22, 1791               Gunfire  1791-10-22  1791   \n",
       "2          Thursday, May 17, 1792               Gunfire  1792-05-17  1792   \n",
       "3      Saturday, January 11, 1794               Gunfire  1794-01-11  1794   \n",
       "4       Sunday, November 12, 1797               Gunfire  1797-11-12  1797   \n",
       "...                           ...                   ...         ...   ...   \n",
       "22795       Sunday, June 12, 2016            Accidental  2016-06-12  2016   \n",
       "22796       Monday, June 20, 2016       Heat exhaustion  2016-06-20  2016   \n",
       "22797       Monday, June 27, 2016       Heat exhaustion  2016-06-27  2016   \n",
       "22798      Tuesday, June 28, 2016  Gunfire (Accidental)  2016-06-28  2016   \n",
       "22799        Friday, July 1, 2016   Automobile accident  2016-07-01  2016   \n",
       "\n",
       "       Canine                                    Department Name State  \n",
       "0       False                   Albany County Constable's Office    NY  \n",
       "1       False                   Columbia County Sheriff's Office    NY  \n",
       "2       False            Westchester County Sheriff's Department    NY  \n",
       "3       False  United States Department of Justice - United S...    US  \n",
       "4       False                 Greenville County Sheriff's Office    SC  \n",
       "...       ...                                                ...   ...  \n",
       "22795    True                         Amarillo Police Department    TX  \n",
       "22796    True  United States Department of Homeland Security ...    US  \n",
       "22797    True                   Fountain County Sheriff's Office    IN  \n",
       "22798    True                       Long Beach Police Department    CA  \n",
       "22799    True                           Emmett Police Department    ID  \n",
       "\n",
       "[22800 rows x 9 columns]"
      ]
     },
     "execution_count": 67,
     "metadata": {},
     "output_type": "execute_result"
    }
   ],
   "source": [
    "file"
   ]
  },
  {
   "cell_type": "code",
   "execution_count": null,
   "metadata": {},
   "outputs": [],
   "source": []
  }
 ],
 "metadata": {
  "kernelspec": {
   "display_name": "Python 3",
   "language": "python",
   "name": "python3"
  },
  "language_info": {
   "codemirror_mode": {
    "name": "ipython",
    "version": 3
   },
   "file_extension": ".py",
   "mimetype": "text/x-python",
   "name": "python",
   "nbconvert_exporter": "python",
   "pygments_lexer": "ipython3",
   "version": "3.8.2"
  }
 },
 "nbformat": 4,
 "nbformat_minor": 4
}
