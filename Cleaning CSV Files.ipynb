{
 "cells": [
  {
   "cell_type": "code",
   "execution_count": 2,
   "metadata": {},
   "outputs": [],
   "source": [
    "import pandas as pd"
   ]
  },
  {
   "cell_type": "markdown",
   "metadata": {},
   "source": [
    "# Clean Death and Stats"
   ]
  },
  {
   "cell_type": "code",
   "execution_count": 90,
   "metadata": {},
   "outputs": [],
   "source": [
    "deathstats = pd.read_csv(\"deaths_and_stats.csv\")"
   ]
  },
  {
   "cell_type": "code",
   "execution_count": 91,
   "metadata": {},
   "outputs": [],
   "source": [
    "columns_list = deathstats.columns.to_list()"
   ]
  },
  {
   "cell_type": "code",
   "execution_count": 92,
   "metadata": {},
   "outputs": [],
   "source": [
    "new_list = []\n",
    "for i in columns_list:\n",
    "    i = str(i).replace(\" Killed by Police (1/1/2013-12/31/2019)\",\"\")\n",
    "    i = str(i).replace(\" (if reported by agency)\",\"\")\n",
    "    new_list.append(i)"
   ]
  },
  {
   "cell_type": "code",
   "execution_count": 93,
   "metadata": {},
   "outputs": [],
   "source": [
    "deathstats.columns = new_list"
   ]
  },
  {
   "cell_type": "code",
   "execution_count": 94,
   "metadata": {},
   "outputs": [],
   "source": [
    "deathstats.fillna(0,inplace=True)"
   ]
  },
  {
   "cell_type": "code",
   "execution_count": 95,
   "metadata": {},
   "outputs": [],
   "source": [
    "new_list = new_list[3:]\n",
    "for i in new_list:\n",
    "    deathstats[i] = deathstats[i].apply(lambda x: str(x).replace(\",\",\"\"))"
   ]
  },
  {
   "cell_type": "code",
   "execution_count": 96,
   "metadata": {},
   "outputs": [],
   "source": [
    "for i in new_list:\n",
    "    deathstats[i] = deathstats[i].apply(lambda x: int(round(float(x))))"
   ]
  },
  {
   "cell_type": "code",
   "execution_count": 98,
   "metadata": {
    "scrolled": true
   },
   "outputs": [],
   "source": [
    "deathstats.to_csv(\"Clean Death And Stats.csv\")"
   ]
  },
  {
   "cell_type": "code",
   "execution_count": 103,
   "metadata": {},
   "outputs": [
    {
     "data": {
      "text/html": [
       "<div>\n",
       "<style scoped>\n",
       "    .dataframe tbody tr th:only-of-type {\n",
       "        vertical-align: middle;\n",
       "    }\n",
       "\n",
       "    .dataframe tbody tr th {\n",
       "        vertical-align: top;\n",
       "    }\n",
       "\n",
       "    .dataframe thead th {\n",
       "        text-align: right;\n",
       "    }\n",
       "</style>\n",
       "<table border=\"1\" class=\"dataframe\">\n",
       "  <thead>\n",
       "    <tr style=\"text-align: right;\">\n",
       "      <th></th>\n",
       "      <th>State</th>\n",
       "      <th>City</th>\n",
       "      <th>PD</th>\n",
       "      <th>Black People</th>\n",
       "      <th>Hispanic People</th>\n",
       "      <th>Native American People</th>\n",
       "      <th>Asian People</th>\n",
       "      <th>Pacific Islanders</th>\n",
       "      <th>White People</th>\n",
       "      <th>Unknown Race People</th>\n",
       "      <th>...</th>\n",
       "      <th>Violent crimes 2015</th>\n",
       "      <th>Violent crimes 2016</th>\n",
       "      <th>Violent crimes 2017</th>\n",
       "      <th>Violent crimes 2018</th>\n",
       "      <th>2013 Total Arrests (UCR Data)</th>\n",
       "      <th>2014 Total Arrests</th>\n",
       "      <th>2015 Total Arrests</th>\n",
       "      <th>2016 Total Arrests</th>\n",
       "      <th>2017 Total Arrests</th>\n",
       "      <th>2018 Total Arrests</th>\n",
       "    </tr>\n",
       "  </thead>\n",
       "  <tbody>\n",
       "    <tr>\n",
       "      <th>0</th>\n",
       "      <td>New Mexico</td>\n",
       "      <td>Albuquerque</td>\n",
       "      <td>Albuquerque Police Department</td>\n",
       "      <td>3</td>\n",
       "      <td>18</td>\n",
       "      <td>0</td>\n",
       "      <td>0</td>\n",
       "      <td>0</td>\n",
       "      <td>10</td>\n",
       "      <td>1</td>\n",
       "      <td>...</td>\n",
       "      <td>5406</td>\n",
       "      <td>6245</td>\n",
       "      <td>7686</td>\n",
       "      <td>7646</td>\n",
       "      <td>27700</td>\n",
       "      <td>25447</td>\n",
       "      <td>22126</td>\n",
       "      <td>20341</td>\n",
       "      <td>21130</td>\n",
       "      <td>22254</td>\n",
       "    </tr>\n",
       "    <tr>\n",
       "      <th>1</th>\n",
       "      <td>California</td>\n",
       "      <td>Anaheim</td>\n",
       "      <td>Anaheim Police Department</td>\n",
       "      <td>3</td>\n",
       "      <td>7</td>\n",
       "      <td>0</td>\n",
       "      <td>0</td>\n",
       "      <td>0</td>\n",
       "      <td>3</td>\n",
       "      <td>0</td>\n",
       "      <td>...</td>\n",
       "      <td>1271</td>\n",
       "      <td>1209</td>\n",
       "      <td>1253</td>\n",
       "      <td>1192</td>\n",
       "      <td>7891</td>\n",
       "      <td>8137</td>\n",
       "      <td>8381</td>\n",
       "      <td>9415</td>\n",
       "      <td>8869</td>\n",
       "      <td>10019</td>\n",
       "    </tr>\n",
       "    <tr>\n",
       "      <th>2</th>\n",
       "      <td>Alaska</td>\n",
       "      <td>Anchorage</td>\n",
       "      <td>Anchorage Police Department</td>\n",
       "      <td>1</td>\n",
       "      <td>1</td>\n",
       "      <td>2</td>\n",
       "      <td>0</td>\n",
       "      <td>0</td>\n",
       "      <td>5</td>\n",
       "      <td>4</td>\n",
       "      <td>...</td>\n",
       "      <td>3226</td>\n",
       "      <td>3422</td>\n",
       "      <td>3564</td>\n",
       "      <td>3824</td>\n",
       "      <td>17601</td>\n",
       "      <td>14748</td>\n",
       "      <td>14387</td>\n",
       "      <td>13294</td>\n",
       "      <td>13871</td>\n",
       "      <td>13973</td>\n",
       "    </tr>\n",
       "    <tr>\n",
       "      <th>3</th>\n",
       "      <td>Texas</td>\n",
       "      <td>Arlington</td>\n",
       "      <td>Arlington Police Department</td>\n",
       "      <td>7</td>\n",
       "      <td>1</td>\n",
       "      <td>0</td>\n",
       "      <td>1</td>\n",
       "      <td>0</td>\n",
       "      <td>4</td>\n",
       "      <td>1</td>\n",
       "      <td>...</td>\n",
       "      <td>1946</td>\n",
       "      <td>2188</td>\n",
       "      <td>0</td>\n",
       "      <td>1784</td>\n",
       "      <td>17258</td>\n",
       "      <td>16222</td>\n",
       "      <td>13989</td>\n",
       "      <td>11024</td>\n",
       "      <td>8397</td>\n",
       "      <td>9566</td>\n",
       "    </tr>\n",
       "    <tr>\n",
       "      <th>4</th>\n",
       "      <td>Georgia</td>\n",
       "      <td>Atlanta</td>\n",
       "      <td>Atlanta Police Department</td>\n",
       "      <td>13</td>\n",
       "      <td>0</td>\n",
       "      <td>0</td>\n",
       "      <td>0</td>\n",
       "      <td>0</td>\n",
       "      <td>1</td>\n",
       "      <td>1</td>\n",
       "      <td>...</td>\n",
       "      <td>5203</td>\n",
       "      <td>5121</td>\n",
       "      <td>4504</td>\n",
       "      <td>3814</td>\n",
       "      <td>30505</td>\n",
       "      <td>26958</td>\n",
       "      <td>0</td>\n",
       "      <td>22161</td>\n",
       "      <td>22581</td>\n",
       "      <td>0</td>\n",
       "    </tr>\n",
       "  </tbody>\n",
       "</table>\n",
       "<p>5 rows × 33 columns</p>\n",
       "</div>"
      ],
      "text/plain": [
       "        State         City                             PD  Black People  \\\n",
       "0  New Mexico  Albuquerque  Albuquerque Police Department             3   \n",
       "1  California      Anaheim      Anaheim Police Department             3   \n",
       "2      Alaska    Anchorage    Anchorage Police Department             1   \n",
       "3       Texas    Arlington    Arlington Police Department             7   \n",
       "4     Georgia      Atlanta      Atlanta Police Department            13   \n",
       "\n",
       "   Hispanic People  Native American People  Asian People  Pacific Islanders  \\\n",
       "0               18                       0             0                  0   \n",
       "1                7                       0             0                  0   \n",
       "2                1                       2             0                  0   \n",
       "3                1                       0             1                  0   \n",
       "4                0                       0             0                  0   \n",
       "\n",
       "   White People  Unknown Race People  ...  Violent crimes 2015  \\\n",
       "0            10                    1  ...                 5406   \n",
       "1             3                    0  ...                 1271   \n",
       "2             5                    4  ...                 3226   \n",
       "3             4                    1  ...                 1946   \n",
       "4             1                    1  ...                 5203   \n",
       "\n",
       "   Violent crimes 2016  Violent crimes 2017  Violent crimes 2018  \\\n",
       "0                 6245                 7686                 7646   \n",
       "1                 1209                 1253                 1192   \n",
       "2                 3422                 3564                 3824   \n",
       "3                 2188                    0                 1784   \n",
       "4                 5121                 4504                 3814   \n",
       "\n",
       "   2013 Total Arrests (UCR Data)  2014 Total Arrests  2015 Total Arrests  \\\n",
       "0                          27700               25447               22126   \n",
       "1                           7891                8137                8381   \n",
       "2                          17601               14748               14387   \n",
       "3                          17258               16222               13989   \n",
       "4                          30505               26958                   0   \n",
       "\n",
       "   2016 Total Arrests  2017 Total Arrests  2018 Total Arrests  \n",
       "0               20341               21130               22254  \n",
       "1                9415                8869               10019  \n",
       "2               13294               13871               13973  \n",
       "3               11024                8397                9566  \n",
       "4               22161               22581                   0  \n",
       "\n",
       "[5 rows x 33 columns]"
      ]
     },
     "execution_count": 103,
     "metadata": {},
     "output_type": "execute_result"
    }
   ],
   "source": [
    "deathstats.head()"
   ]
  },
  {
   "cell_type": "markdown",
   "metadata": {},
   "source": [
    "# Clean Fatal Encounters"
   ]
  },
  {
   "cell_type": "code",
   "execution_count": 3,
   "metadata": {},
   "outputs": [],
   "source": [
    "file = pd.read_csv(\"fatal_encounters_dot_org.csv\")"
   ]
  },
  {
   "cell_type": "code",
   "execution_count": 14,
   "metadata": {},
   "outputs": [],
   "source": [
    "file.fillna(0,inplace=True)"
   ]
  },
  {
   "cell_type": "code",
   "execution_count": 11,
   "metadata": {
    "scrolled": false
   },
   "outputs": [],
   "source": [
    "file.columns = [\"Unique ID\",\"Name\",\"Age\",\"Gender\",\"Race\",\"Race with Imputations\",\"Imputation Probability\",\"URL of Image of Deceased\",\\\n",
    "\"Date of Injury Resulting in Death\",\"Address of Injury\",\"City of Death\",\"State of Death\",\"Zip Code of Death\",\\\n",
    "\"County of Death\",\"Full Address\",\"Lat\",\"Long\",\"Agency Responsible of Death\",\"Cause of Death\",\\\n",
    " \"Description of Circumstance of Death\",\"Dispositions/Exclusions (Internal Use Only)\",\\\n",
    "\"Link to news article or photo of official document\",\"Symptoms of Mental Illness\",\"Video\",\"Date and Description\",\\\n",
    "\"Unique ID Formula\",\"Unique Identifier\",\"Year\"]"
   ]
  },
  {
   "cell_type": "code",
   "execution_count": 27,
   "metadata": {},
   "outputs": [],
   "source": [
    "file.drop(columns = [\"Race with Imputations\",\"Imputation Probability\",\"URL of Image of Deceased\",\\\n",
    "                    \"Link to news article or photo of official document\",\"Video\",\"Date and Description\",\\\n",
    "                     \"Unique ID Formula\",\"Unique Identifier\"],inplace=True)"
   ]
  },
  {
   "cell_type": "code",
   "execution_count": 31,
   "metadata": {},
   "outputs": [],
   "source": [
    "file[\"Zip Code of Death\"] = file[\"Zip Code of Death\"].apply(lambda x: int(x))"
   ]
  },
  {
   "cell_type": "code",
   "execution_count": 34,
   "metadata": {},
   "outputs": [],
   "source": [
    "file.to_csv(\"Fatal_Encounters.csv\")"
   ]
  },
  {
   "cell_type": "markdown",
   "metadata": {},
   "source": [
    "# Cleaning Police Contracts"
   ]
  },
  {
   "cell_type": "code",
   "execution_count": 49,
   "metadata": {},
   "outputs": [],
   "source": [
    "file = pd.read_csv(\"police_contracts.csv\")"
   ]
  },
  {
   "cell_type": "code",
   "execution_count": 50,
   "metadata": {},
   "outputs": [],
   "source": [
    "file.drop(columns = \"Unique identifier\",inplace=True)"
   ]
  },
  {
   "cell_type": "code",
   "execution_count": 52,
   "metadata": {},
   "outputs": [],
   "source": [
    "file.to_csv(\"Police Contracts.csv\")"
   ]
  },
  {
   "cell_type": "code",
   "execution_count": 53,
   "metadata": {},
   "outputs": [
    {
     "name": "stdout",
     "output_type": "stream",
     "text": [
      "\u001b[34mClean CSV Files\u001b[m\u001b[m/              police_deaths_538.csv\r\n",
      "Cleaning CSV Files.ipynb      police_killings.csv\r\n",
      "deaths_and_stats.csv          police_policies.csv\r\n",
      "education_census_bureau.csv   poverty_census_bureau.csv\r\n",
      "fatal_encounters_dot_org.csv  shootings_wash_post.csv\r\n",
      "police_contracts.csv\r\n"
     ]
    }
   ],
   "source": [
    "ls"
   ]
  },
  {
   "cell_type": "markdown",
   "metadata": {},
   "source": [
    "# Cleaning Police Deaths"
   ]
  },
  {
   "cell_type": "code",
   "execution_count": 54,
   "metadata": {},
   "outputs": [],
   "source": [
    "file = pd.read_csv(\"police_deaths_538.csv\")"
   ]
  },
  {
   "cell_type": "code",
   "execution_count": 56,
   "metadata": {},
   "outputs": [],
   "source": [
    "file.columns = [\"Name\",\"Department\",\"EOW\",\"Cause of Death\",\"Short Cause of Death\",\\\n",
    "               \"Date\",\"Year\",\"Canine\",\"Department Name\",\"State\"]"
   ]
  },
  {
   "cell_type": "code",
   "execution_count": 58,
   "metadata": {},
   "outputs": [],
   "source": [
    "file[\"EOW\"] = file[\"EOW\"].apply(lambda x: str(x).replace(\"EOW: \",\"\"))"
   ]
  },
  {
   "cell_type": "code",
   "execution_count": 60,
   "metadata": {},
   "outputs": [],
   "source": [
    "file[\"Cause of Death\"] = file[\"Cause of Death\"].apply(lambda x: str(x).replace(\"Cause of Death: \",\"\"))"
   ]
  },
  {
   "cell_type": "code",
   "execution_count": 64,
   "metadata": {},
   "outputs": [],
   "source": [
    "true_test = (file[\"Cause of Death\"] == file[\"Short Cause of Death\"]).to_list()"
   ]
  },
  {
   "cell_type": "code",
   "execution_count": 66,
   "metadata": {},
   "outputs": [],
   "source": [
    "file.drop(columns = \"Short Cause of Death\",inplace=True)"
   ]
  },
  {
   "cell_type": "code",
   "execution_count": 69,
   "metadata": {},
   "outputs": [],
   "source": [
    "file.to_csv(\"Clean CSV Files/Police Deaths.csv\")"
   ]
  },
  {
   "cell_type": "markdown",
   "metadata": {},
   "source": [
    "# Cleaning Police Killings"
   ]
  },
  {
   "cell_type": "code",
   "execution_count": 71,
   "metadata": {},
   "outputs": [],
   "source": [
    "file = pd.read_csv(\"police_killings.csv\")"
   ]
  },
  {
   "cell_type": "code",
   "execution_count": 75,
   "metadata": {},
   "outputs": [],
   "source": [
    "column_list = file.columns.to_list()"
   ]
  },
  {
   "cell_type": "code",
   "execution_count": 76,
   "metadata": {},
   "outputs": [],
   "source": [
    "j = 0;\n",
    "index_list = [];\n",
    "for i in column_list:\n",
    "    index_list.append((i,j))\n",
    "    j += 1;"
   ]
  },
  {
   "cell_type": "code",
   "execution_count": 77,
   "metadata": {},
   "outputs": [
    {
     "data": {
      "text/plain": [
       "[(\"Victim's name\", 0),\n",
       " (\"Victim's age\", 1),\n",
       " (\"Victim's gender\", 2),\n",
       " (\"Victim's race\", 3),\n",
       " ('URL of image of victim', 4),\n",
       " ('Date of Incident (month/day/year)', 5),\n",
       " ('Street Address of Incident', 6),\n",
       " ('City', 7),\n",
       " ('State', 8),\n",
       " ('Zipcode', 9),\n",
       " ('County', 10),\n",
       " ('Agency responsible for death', 11),\n",
       " ('Cause of death', 12),\n",
       " ('A brief description of the circumstances surrounding the death', 13),\n",
       " ('Official disposition of death (justified or other)', 14),\n",
       " ('Criminal Charges?', 15),\n",
       " ('Link to news article or photo of official document', 16),\n",
       " ('Symptoms of mental illness?', 17),\n",
       " ('Unarmed', 18),\n",
       " ('Alleged Weapon (Source: WaPo)', 19),\n",
       " ('Alleged Threat Level (Source: WaPo)', 20),\n",
       " ('Fleeing (Source: WaPo)', 21),\n",
       " ('Body Camera (Source: WaPo)', 22),\n",
       " ('WaPo ID (If included in WaPo database)', 23),\n",
       " ('Off-Duty Killing?', 24),\n",
       " ('Geography (via Trulia methodology based on zipcode population density: http://jedkolko.com/wp-content/uploads/2015/05/full-ZCTA-urban-suburban-rural-classification.xlsx )',\n",
       "  25),\n",
       " ('ID', 26),\n",
       " ('Unnamed: 27', 27),\n",
       " ('Unnamed: 28', 28),\n",
       " ('Unnamed: 29', 29),\n",
       " ('Unnamed: 30', 30),\n",
       " ('Unnamed: 31', 31),\n",
       " ('Unnamed: 32', 32),\n",
       " ('Unnamed: 33', 33),\n",
       " ('Unnamed: 34', 34),\n",
       " ('Unnamed: 35', 35),\n",
       " ('Unnamed: 36', 36),\n",
       " ('Unnamed: 37', 37),\n",
       " ('Unnamed: 38', 38),\n",
       " ('Unnamed: 39', 39),\n",
       " ('Unnamed: 40', 40),\n",
       " ('Unnamed: 41', 41),\n",
       " ('Unnamed: 42', 42),\n",
       " ('Unnamed: 43', 43),\n",
       " ('Unnamed: 44', 44),\n",
       " ('Unnamed: 45', 45),\n",
       " ('Unnamed: 46', 46),\n",
       " ('Unnamed: 47', 47),\n",
       " ('Unnamed: 48', 48),\n",
       " ('Unnamed: 49', 49),\n",
       " ('Unnamed: 50', 50),\n",
       " ('Unnamed: 51', 51),\n",
       " ('Unnamed: 52', 52),\n",
       " ('Unnamed: 53', 53),\n",
       " ('Unnamed: 54', 54),\n",
       " ('Unnamed: 55', 55),\n",
       " ('Unnamed: 56', 56),\n",
       " ('Unnamed: 57', 57),\n",
       " ('Unnamed: 58', 58),\n",
       " ('Unnamed: 59', 59),\n",
       " ('Unnamed: 60', 60),\n",
       " ('Unnamed: 61', 61),\n",
       " ('Unnamed: 62', 62),\n",
       " ('Unnamed: 63', 63),\n",
       " ('Unnamed: 64', 64),\n",
       " ('Unnamed: 65', 65)]"
      ]
     },
     "execution_count": 77,
     "metadata": {},
     "output_type": "execute_result"
    }
   ],
   "source": [
    "index_list"
   ]
  },
  {
   "cell_type": "code",
   "execution_count": 79,
   "metadata": {},
   "outputs": [],
   "source": [
    "file = file.iloc[:,:27]"
   ]
  },
  {
   "cell_type": "code",
   "execution_count": 83,
   "metadata": {},
   "outputs": [],
   "source": [
    "file.columns = [\"Name\",\"Age\",\"Gender\",\"Race\",\"URL\",\"Date of incident\",\"Address of Incident\",\"City\",\"State\",\\\n",
    "               \"Zipcode\",\"County\",\"Agency Responsible for Death\",\"Cause of Death\",\\\n",
    "                \"Description of Circumstance Surrounding the Death\",\"Official Disposition of Death\"\\\n",
    "               ,\"Criminal Charges?\",\"Link\",\"Symptoms of Mental Illness\",\"Unarmed\",\"Alleged Weapon\",\\\n",
    "                \"Alleged Threat Level\",\"Fleeing\",\"Body Camera\",\"WaPo ID\",\"Off-Duty Killing\",\"Geo\",\"ID\"]"
   ]
  },
  {
   "cell_type": "code",
   "execution_count": 85,
   "metadata": {},
   "outputs": [],
   "source": [
    "file.drop(columns = [\"URL\",\"Link\",\"Geo\"],inplace=True)"
   ]
  },
  {
   "cell_type": "code",
   "execution_count": 87,
   "metadata": {},
   "outputs": [],
   "source": [
    "file.fillna(\"\",inplace=True)"
   ]
  },
  {
   "cell_type": "code",
   "execution_count": 89,
   "metadata": {},
   "outputs": [
    {
     "data": {
      "text/plain": [
       "Index(['Name', 'Age', 'Gender', 'Race', 'Date of incident',\n",
       "       'Address of Incident', 'City', 'State', 'Zipcode', 'County',\n",
       "       'Agency Responsible for Death', 'Cause of Death',\n",
       "       'Description of Circumstance Surrounding the Death',\n",
       "       'Official Disposition of Death', 'Criminal Charges?',\n",
       "       'Symptoms of Mental Illness', 'Unarmed', 'Alleged Weapon',\n",
       "       'Alleged Threat Level', 'Fleeing', 'Body Camera', 'WaPo ID',\n",
       "       'Off-Duty Killing', 'ID'],\n",
       "      dtype='object')"
      ]
     },
     "execution_count": 89,
     "metadata": {},
     "output_type": "execute_result"
    }
   ],
   "source": [
    "file.columns"
   ]
  },
  {
   "cell_type": "code",
   "execution_count": 88,
   "metadata": {},
   "outputs": [
    {
     "data": {
      "text/html": [
       "<div>\n",
       "<style scoped>\n",
       "    .dataframe tbody tr th:only-of-type {\n",
       "        vertical-align: middle;\n",
       "    }\n",
       "\n",
       "    .dataframe tbody tr th {\n",
       "        vertical-align: top;\n",
       "    }\n",
       "\n",
       "    .dataframe thead th {\n",
       "        text-align: right;\n",
       "    }\n",
       "</style>\n",
       "<table border=\"1\" class=\"dataframe\">\n",
       "  <thead>\n",
       "    <tr style=\"text-align: right;\">\n",
       "      <th></th>\n",
       "      <th>Name</th>\n",
       "      <th>Age</th>\n",
       "      <th>Gender</th>\n",
       "      <th>Race</th>\n",
       "      <th>Date of incident</th>\n",
       "      <th>Address of Incident</th>\n",
       "      <th>City</th>\n",
       "      <th>State</th>\n",
       "      <th>Zipcode</th>\n",
       "      <th>County</th>\n",
       "      <th>...</th>\n",
       "      <th>Criminal Charges?</th>\n",
       "      <th>Symptoms of Mental Illness</th>\n",
       "      <th>Unarmed</th>\n",
       "      <th>Alleged Weapon</th>\n",
       "      <th>Alleged Threat Level</th>\n",
       "      <th>Fleeing</th>\n",
       "      <th>Body Camera</th>\n",
       "      <th>WaPo ID</th>\n",
       "      <th>Off-Duty Killing</th>\n",
       "      <th>ID</th>\n",
       "    </tr>\n",
       "  </thead>\n",
       "  <tbody>\n",
       "    <tr>\n",
       "      <th>0</th>\n",
       "      <td>Eric M. Tellez</td>\n",
       "      <td>28</td>\n",
       "      <td>Male</td>\n",
       "      <td>White</td>\n",
       "      <td>31/12/2019</td>\n",
       "      <td>Broad St.</td>\n",
       "      <td>Globe</td>\n",
       "      <td>AZ</td>\n",
       "      <td>85501</td>\n",
       "      <td>Gila</td>\n",
       "      <td>...</td>\n",
       "      <td>No known charges</td>\n",
       "      <td>No</td>\n",
       "      <td>Allegedly Armed</td>\n",
       "      <td>knife</td>\n",
       "      <td>other</td>\n",
       "      <td>not fleeing</td>\n",
       "      <td>no</td>\n",
       "      <td>5332</td>\n",
       "      <td></td>\n",
       "      <td>7664</td>\n",
       "    </tr>\n",
       "    <tr>\n",
       "      <th>1</th>\n",
       "      <td>Name withheld by police</td>\n",
       "      <td></td>\n",
       "      <td>Male</td>\n",
       "      <td>Unknown race</td>\n",
       "      <td>31/12/2019</td>\n",
       "      <td>7239-7411 I-40</td>\n",
       "      <td>Memphis</td>\n",
       "      <td>AR</td>\n",
       "      <td>38103</td>\n",
       "      <td>Crittenden</td>\n",
       "      <td>...</td>\n",
       "      <td>No known charges</td>\n",
       "      <td>No</td>\n",
       "      <td>Unclear</td>\n",
       "      <td>unclear</td>\n",
       "      <td>other</td>\n",
       "      <td></td>\n",
       "      <td></td>\n",
       "      <td></td>\n",
       "      <td></td>\n",
       "      <td>7665</td>\n",
       "    </tr>\n",
       "    <tr>\n",
       "      <th>2</th>\n",
       "      <td>Terry Hudson</td>\n",
       "      <td>57</td>\n",
       "      <td>Male</td>\n",
       "      <td>Black</td>\n",
       "      <td>31/12/2019</td>\n",
       "      <td>3600 N 24th St</td>\n",
       "      <td>Omaha</td>\n",
       "      <td>NE</td>\n",
       "      <td>68110</td>\n",
       "      <td>Douglas</td>\n",
       "      <td>...</td>\n",
       "      <td>No known charges</td>\n",
       "      <td>No</td>\n",
       "      <td>Allegedly Armed</td>\n",
       "      <td>gun</td>\n",
       "      <td>attack</td>\n",
       "      <td>not fleeing</td>\n",
       "      <td>no</td>\n",
       "      <td>5359</td>\n",
       "      <td></td>\n",
       "      <td>7661</td>\n",
       "    </tr>\n",
       "    <tr>\n",
       "      <th>3</th>\n",
       "      <td>Malik Williams</td>\n",
       "      <td>23</td>\n",
       "      <td>Male</td>\n",
       "      <td>Black</td>\n",
       "      <td>31/12/2019</td>\n",
       "      <td>30800 14th Avenue South</td>\n",
       "      <td>Federal Way</td>\n",
       "      <td>WA</td>\n",
       "      <td>98003</td>\n",
       "      <td>King</td>\n",
       "      <td>...</td>\n",
       "      <td>No known charges</td>\n",
       "      <td>No</td>\n",
       "      <td>Allegedly Armed</td>\n",
       "      <td>gun</td>\n",
       "      <td>attack</td>\n",
       "      <td>not fleeing</td>\n",
       "      <td>no</td>\n",
       "      <td>5358</td>\n",
       "      <td></td>\n",
       "      <td>7662</td>\n",
       "    </tr>\n",
       "    <tr>\n",
       "      <th>4</th>\n",
       "      <td>Frederick Perkins</td>\n",
       "      <td>37</td>\n",
       "      <td>Male</td>\n",
       "      <td>Black</td>\n",
       "      <td>31/12/2019</td>\n",
       "      <td>17057 N Outer 40 Rd</td>\n",
       "      <td>Chesterfield</td>\n",
       "      <td>MO</td>\n",
       "      <td>63005</td>\n",
       "      <td>St. Louis</td>\n",
       "      <td>...</td>\n",
       "      <td>No known charges</td>\n",
       "      <td>No</td>\n",
       "      <td>Vehicle</td>\n",
       "      <td>vehicle</td>\n",
       "      <td>attack</td>\n",
       "      <td>car</td>\n",
       "      <td>no</td>\n",
       "      <td>5333</td>\n",
       "      <td></td>\n",
       "      <td>7667</td>\n",
       "    </tr>\n",
       "  </tbody>\n",
       "</table>\n",
       "<p>5 rows × 24 columns</p>\n",
       "</div>"
      ],
      "text/plain": [
       "                      Name Age Gender          Race Date of incident  \\\n",
       "0           Eric M. Tellez  28   Male         White       31/12/2019   \n",
       "1  Name withheld by police       Male  Unknown race       31/12/2019   \n",
       "2             Terry Hudson  57   Male         Black       31/12/2019   \n",
       "3           Malik Williams  23   Male         Black       31/12/2019   \n",
       "4        Frederick Perkins  37   Male         Black       31/12/2019   \n",
       "\n",
       "       Address of Incident          City State Zipcode      County  ...  \\\n",
       "0               Broad St.          Globe    AZ   85501        Gila  ...   \n",
       "1           7239-7411 I-40       Memphis    AR   38103  Crittenden  ...   \n",
       "2           3600 N 24th St         Omaha    NE   68110     Douglas  ...   \n",
       "3  30800 14th Avenue South   Federal Way    WA   98003        King  ...   \n",
       "4      17057 N Outer 40 Rd  Chesterfield    MO   63005   St. Louis  ...   \n",
       "\n",
       "  Criminal Charges? Symptoms of Mental Illness          Unarmed  \\\n",
       "0  No known charges                         No  Allegedly Armed   \n",
       "1  No known charges                         No          Unclear   \n",
       "2  No known charges                         No  Allegedly Armed   \n",
       "3  No known charges                         No  Allegedly Armed   \n",
       "4  No known charges                         No          Vehicle   \n",
       "\n",
       "  Alleged Weapon Alleged Threat Level      Fleeing Body Camera WaPo ID  \\\n",
       "0          knife                other  not fleeing          no    5332   \n",
       "1        unclear                other                                    \n",
       "2            gun               attack  not fleeing          no    5359   \n",
       "3            gun               attack  not fleeing          no    5358   \n",
       "4        vehicle               attack          car          no    5333   \n",
       "\n",
       "  Off-Duty Killing    ID  \n",
       "0                   7664  \n",
       "1                   7665  \n",
       "2                   7661  \n",
       "3                   7662  \n",
       "4                   7667  \n",
       "\n",
       "[5 rows x 24 columns]"
      ]
     },
     "execution_count": 88,
     "metadata": {},
     "output_type": "execute_result"
    }
   ],
   "source": [
    "file.head()"
   ]
  },
  {
   "cell_type": "code",
   "execution_count": null,
   "metadata": {},
   "outputs": [],
   "source": []
  }
 ],
 "metadata": {
  "kernelspec": {
   "display_name": "Python 3",
   "language": "python",
   "name": "python3"
  },
  "language_info": {
   "codemirror_mode": {
    "name": "ipython",
    "version": 3
   },
   "file_extension": ".py",
   "mimetype": "text/x-python",
   "name": "python",
   "nbconvert_exporter": "python",
   "pygments_lexer": "ipython3",
   "version": "3.8.2"
  }
 },
 "nbformat": 4,
 "nbformat_minor": 4
}
